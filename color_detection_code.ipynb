{
 "cells": [
  {
   "cell_type": "code",
   "execution_count": 1,
   "metadata": {},
   "outputs": [
    {
     "name": "stdout",
     "output_type": "stream",
     "text": [
      "Requirement already satisfied: pillow in /Users/jakobfredholm/Code/Elsys_prosjekt/color/lib/python3.10/site-packages (10.1.0)\n",
      "Requirement already satisfied: opencv-python in /Users/jakobfredholm/Code/Elsys_prosjekt/color/lib/python3.10/site-packages (4.8.1.78)\n",
      "Requirement already satisfied: numpy>=1.21.2 in /Users/jakobfredholm/Code/Elsys_prosjekt/color/lib/python3.10/site-packages (from opencv-python) (1.26.1)\n",
      "Requirement already satisfied: numpy in /Users/jakobfredholm/Code/Elsys_prosjekt/color/lib/python3.10/site-packages (1.26.1)\n"
     ]
    }
   ],
   "source": [
    "!pip install pillow\n",
    "!pip install opencv-python\n",
    "!pip install numpy\n"
   ]
  },
  {
   "cell_type": "code",
   "execution_count": 2,
   "metadata": {},
   "outputs": [
    {
     "name": "stderr",
     "output_type": "stream",
     "text": [
      "2023-11-23 10:00:55.765 python[1732:8918] WARNING: AVCaptureDeviceTypeExternal is deprecated for Continuity Cameras. Please use AVCaptureDeviceTypeContinuityCamera and add NSCameraUseContinuityCameraDeviceType to your Info.plist.\n"
     ]
    },
    {
     "ename": "error",
     "evalue": "OpenCV(4.8.1) /Users/xperience/GHA-OpenCV-Python/_work/opencv-python/opencv-python/opencv/modules/imgproc/src/color.cpp:182: error: (-215:Assertion failed) !_src.empty() in function 'cvtColor'\n",
     "output_type": "error",
     "traceback": [
      "\u001b[0;31m---------------------------------------------------------------------------\u001b[0m",
      "\u001b[0;31merror\u001b[0m                                     Traceback (most recent call last)",
      "\u001b[1;32m/Users/jakobfredholm/Code/Elsys_prosjekt/Color_detection/color_detection_code.ipynb Cell 3\u001b[0m line \u001b[0;36m2\n\u001b[1;32m     <a href='vscode-notebook-cell:/Users/jakobfredholm/Code/Elsys_prosjekt/Color_detection/color_detection_code.ipynb#W2sZmlsZQ%3D%3D?line=19'>20</a>\u001b[0m \u001b[39mwhile\u001b[39;00m \u001b[39mTrue\u001b[39;00m:\n\u001b[1;32m     <a href='vscode-notebook-cell:/Users/jakobfredholm/Code/Elsys_prosjekt/Color_detection/color_detection_code.ipynb#W2sZmlsZQ%3D%3D?line=20'>21</a>\u001b[0m     ret0, frame0 \u001b[39m=\u001b[39m cap0\u001b[39m.\u001b[39mread()                                      \u001b[39m# Bilde fra video\u001b[39;00m\n\u001b[0;32m---> <a href='vscode-notebook-cell:/Users/jakobfredholm/Code/Elsys_prosjekt/Color_detection/color_detection_code.ipynb#W2sZmlsZQ%3D%3D?line=22'>23</a>\u001b[0m     hsvImage0 \u001b[39m=\u001b[39m cv2\u001b[39m.\u001b[39;49mcvtColor(frame0, cv2\u001b[39m.\u001b[39;49mCOLOR_BGR2HSV)             \u001b[39m# Leser av fargene i bildet\u001b[39;00m\n\u001b[1;32m     <a href='vscode-notebook-cell:/Users/jakobfredholm/Code/Elsys_prosjekt/Color_detection/color_detection_code.ipynb#W2sZmlsZQ%3D%3D?line=24'>25</a>\u001b[0m     lower_Limits0, upper_Limits0 \u001b[39m=\u001b[39m get_limits(color\u001b[39m=\u001b[39myellow)         \u001b[39m# Finner fargeområdet\u001b[39;00m\n\u001b[1;32m     <a href='vscode-notebook-cell:/Users/jakobfredholm/Code/Elsys_prosjekt/Color_detection/color_detection_code.ipynb#W2sZmlsZQ%3D%3D?line=26'>27</a>\u001b[0m     mask0 \u001b[39m=\u001b[39m cv2\u001b[39m.\u001b[39minRange(hsvImage0, lower_Limits0, upper_Limits0)    \u001b[39m# Finner hvor i bildet pixelene er i fargeområdet\u001b[39;00m\n",
      "\u001b[0;31merror\u001b[0m: OpenCV(4.8.1) /Users/xperience/GHA-OpenCV-Python/_work/opencv-python/opencv-python/opencv/modules/imgproc/src/color.cpp:182: error: (-215:Assertion failed) !_src.empty() in function 'cvtColor'\n"
     ]
    },
    {
     "ename": "",
     "evalue": "",
     "output_type": "error",
     "traceback": [
      "\u001b[1;31mThe Kernel crashed while executing code in the the current cell or a previous cell. Please review the code in the cell(s) to identify a possible cause of the failure. Click <a href='https://aka.ms/vscodeJupyterKernelCrash'>here</a> for more info. View Jupyter <a href='command:jupyter.viewOutput'>log</a> for further details."
     ]
    }
   ],
   "source": [
    "import cv2                                                          #Importerer biblioteker\n",
    "from PIL import Image\n",
    "import numpy as np\n",
    "\n",
    "def get_limits(color):                                              # Finner hvilken BGR verdi pixlene kan ha for fargen som er valgt\n",
    "    c = np.uint8([[color]])                                         \n",
    "    hsvC = cv2.cvtColor(c,cv2.COLOR_BGR2HSV)                        # Gjør BGR verdier om til HSV fargespekter\n",
    "\n",
    "    lower_Limits = hsvC[0][0][0] -10,100,100                        # Setter laveste verdier pixlene kan ha\n",
    "    upper_Limits = hsvC[0][0][0] +10,255,255                        # Setter høyeste verdier pixlene kan ha\n",
    "\n",
    "    lower_Limits = np.array(lower_Limits, dtype=np.uint8)       \n",
    "    upper_Limits = np.array(upper_Limits, dtype=np.uint8)\n",
    "    return lower_Limits, upper_Limits                               # Returnerer fargeområdet pixlene kan ha\n",
    "\n",
    "\n",
    "\n",
    "yellow = [0,255,230]                                                # Setter fargen vi vil ha i BGR\n",
    "cap0 = cv2.VideoCapture(1)                                          # Video fra kamera \n",
    "while True:\n",
    "    ret0, frame0 = cap0.read()                                      # Bilde fra video\n",
    "\n",
    "    hsvImage0 = cv2.cvtColor(frame0, cv2.COLOR_BGR2HSV)             # Leser av fargene i bildet\n",
    "\n",
    "    lower_Limits0, upper_Limits0 = get_limits(color=yellow)         # Finner fargeområdet\n",
    "\n",
    "    mask0 = cv2.inRange(hsvImage0, lower_Limits0, upper_Limits0)    # Finner hvor i bildet pixelene er i fargeområdet\n",
    "    mask_0 = Image.fromarray(mask0)                                 # Lager et bilde med bare hvite(pixlene som er i fargeområdet) og sorte pixler \n",
    "    bbox0 = mask_0.getbbox()                                        # Finner koordinatene til for å lage minst mulig firkant rundt de hvite pixlene\n",
    "   \n",
    "\n",
    "    if bbox0 is not None:\n",
    "        x1, y1, x2, y2 = bbox0\n",
    "\n",
    "        frame0 = cv2.rectangle(frame0,(x1,y1),(x2,y2),(0,0,255), 10)   # lager en boks i bildet med koordinatene fra bbox\n",
    "    \n",
    "    cv2.imshow('Kamera 0', frame0)                                     # Viser bildet med boks \n",
    "   \n",
    "\n",
    "\n",
    "    if cv2.waitKey(1) & 0xFF == ord('q'):\n",
    "        break\n",
    "cap0.release()\n",
    "cv2.destroyAllWindows()"
   ]
  },
  {
   "cell_type": "code",
   "execution_count": null,
   "metadata": {},
   "outputs": [],
   "source": []
  }
 ],
 "metadata": {
  "kernelspec": {
   "display_name": "color",
   "language": "python",
   "name": "color"
  },
  "language_info": {
   "codemirror_mode": {
    "name": "ipython",
    "version": 3
   },
   "file_extension": ".py",
   "mimetype": "text/x-python",
   "name": "python",
   "nbconvert_exporter": "python",
   "pygments_lexer": "ipython3",
   "version": "3.10.12"
  }
 },
 "nbformat": 4,
 "nbformat_minor": 2
}
